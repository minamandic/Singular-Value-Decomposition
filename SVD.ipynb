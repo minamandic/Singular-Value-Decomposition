{
 "cells": [
  {
   "cell_type": "code",
   "execution_count": 33,
   "id": "a0cc286b",
   "metadata": {},
   "outputs": [
    {
     "name": "stdout",
     "output_type": "stream",
     "text": [
      "How many rows do you want your matrix to have? \n",
      "5\n",
      "How many columns do you want your matrix to have? \n",
      "4\n",
      "enter the value for row 0 and column 0 : \n",
      "1\n",
      "enter the value for row 0 and column 1 : \n",
      "2\n",
      "enter the value for row 0 and column 2 : \n",
      "3\n",
      "enter the value for row 0 and column 3 : \n",
      "4\n",
      "enter the value for row 1 and column 0 : \n",
      "5\n",
      "enter the value for row 1 and column 1 : \n",
      "6\n",
      "enter the value for row 1 and column 2 : \n",
      "7\n",
      "enter the value for row 1 and column 3 : \n",
      "8\n",
      "enter the value for row 2 and column 0 : \n",
      "9\n",
      "enter the value for row 2 and column 1 : \n",
      "0\n",
      "enter the value for row 2 and column 2 : \n",
      "-1\n",
      "enter the value for row 2 and column 3 : \n",
      "-2\n",
      "enter the value for row 3 and column 0 : \n",
      "-3\n",
      "enter the value for row 3 and column 1 : \n",
      "-4\n",
      "enter the value for row 3 and column 2 : \n",
      "-5\n",
      "enter the value for row 3 and column 3 : \n",
      "-6\n",
      "enter the value for row 4 and column 0 : \n",
      "-7\n",
      "enter the value for row 4 and column 1 : \n",
      "-8\n",
      "enter the value for row 4 and column 2 : \n",
      "-9\n",
      "enter the value for row 4 and column 3 : \n",
      "-10\n",
      "[[  1.   2.   3.   4.]\n",
      " [  5.   6.   7.   8.]\n",
      " [  9.   0.  -1.  -2.]\n",
      " [ -3.  -4.  -5.  -6.]\n",
      " [ -7.  -8.  -9. -10.]]\n"
     ]
    }
   ],
   "source": [
    "import numpy as np\n",
    "from scipy.linalg import svd\n",
    "\n",
    "print(\"How many rows do you want your matrix to have? \")\n",
    "rows = input()\n",
    "print(\"How many columns do you want your matrix to have? \")\n",
    "cols = input()\n",
    "\n",
    "X = np.zeros((int(rows), int(cols)))\n",
    "for i in range(int(rows)):\n",
    "    for j in range(int(cols)):\n",
    "        print(\"enter the value for row \" +str(i)+ \" and column \" +str(j)+ \" : \")\n",
    "        X[i][j] = input()\n",
    "        \n",
    "print(X)"
   ]
  },
  {
   "cell_type": "code",
   "execution_count": 34,
   "id": "829219ec",
   "metadata": {},
   "outputs": [],
   "source": [
    "#Step 1\n",
    "\n",
    "XT = X.transpose()\n",
    "XTX = np.matmul(XT,X)"
   ]
  },
  {
   "cell_type": "code",
   "execution_count": 35,
   "id": "5bea47a4",
   "metadata": {},
   "outputs": [],
   "source": [
    "#Step 2\n",
    "\n",
    "eigenvals = np.linalg.eig(XTX)\n",
    "singular_vals = []\n",
    "for i in eigenvals[0]:\n",
    "    if i >= 0:\n",
    "        singular_vals.append(np.sqrt(i))\n",
    "    else:\n",
    "        singular_vals.append(np.sqrt(abs(i)))"
   ]
  },
  {
   "cell_type": "code",
   "execution_count": 36,
   "id": "20dfeb80",
   "metadata": {},
   "outputs": [],
   "source": [
    "#Step 3\n",
    "\n",
    "singular_vals.sort(reverse = True)\n",
    "\n",
    "count = 0\n",
    "for i in singular_vals:\n",
    "    count += 1\n",
    "sigma = np.zeros((count, count))\n",
    "\n",
    "for i in range(count):\n",
    "    sigma[i][i] = singular_vals[i]\n",
    "\n",
    "sigma_inv = np.linalg.inv(sigma)"
   ]
  },
  {
   "cell_type": "code",
   "execution_count": 37,
   "id": "a09008cb",
   "metadata": {},
   "outputs": [],
   "source": [
    "#Step 4\n",
    "\n",
    "eigenvalues, eigenvectors = np.linalg.eigh(XTX)\n",
    "sorted_indices = np.argsort(eigenvalues)[::-1]\n",
    "V = -1*eigenvectors[:, sorted_indices]\n",
    "VT = V.T"
   ]
  },
  {
   "cell_type": "code",
   "execution_count": 38,
   "id": "970e9600",
   "metadata": {},
   "outputs": [
    {
     "name": "stdout",
     "output_type": "stream",
     "text": [
      "Original Matrix After SVD:\n",
      "[[ 1.00000000e+00  2.00000000e+00  3.00000000e+00  4.00000000e+00]\n",
      " [ 5.00000000e+00  6.00000000e+00  7.00000000e+00  8.00000000e+00]\n",
      " [ 9.00000000e+00 -1.99797038e-17 -1.00000000e+00 -2.00000000e+00]\n",
      " [-3.00000000e+00 -4.00000000e+00 -5.00000000e+00 -6.00000000e+00]\n",
      " [-7.00000000e+00 -8.00000000e+00 -9.00000000e+00 -1.00000000e+01]]\n",
      "U:\n",
      "[[ 2.18136761e-01 -1.45611557e-01  7.94489539e-01  4.28408384e-07]\n",
      " [ 5.45456564e-01 -3.89159682e-02 -3.10271460e-02 -3.72529030e-08]\n",
      " [ 7.92378431e-02  9.84155446e-01  1.58617219e-01  1.13621354e-07]\n",
      " [-3.81796663e-01  9.22637629e-02 -3.81731197e-01 -1.95577741e-07]\n",
      " [-7.09116466e-01 -1.44318264e-02  4.43785489e-01  2.77534127e-07]]\n",
      "Sigma:\n",
      "[[2.41742508e+01 0.00000000e+00 0.00000000e+00 0.00000000e+00]\n",
      " [0.00000000e+00 9.21884303e+00 0.00000000e+00 0.00000000e+00]\n",
      " [0.00000000e+00 0.00000000e+00 7.86468191e-01 0.00000000e+00]\n",
      " [0.00000000e+00 0.00000000e+00 0.00000000e+00 7.86785994e-08]]\n",
      "V Transpose:\n",
      "[[ 4.04056593e-01  4.51270709e-01  5.24707053e-01  5.98143398e-01]\n",
      " [ 9.04824942e-01 -8.44270113e-02 -2.19640823e-01 -3.54854635e-01]\n",
      " [ 1.34276182e-01 -7.89024816e-01 -9.88622785e-02  5.91300259e-01]\n",
      " [ 7.64170826e-15 -4.08248290e-01  8.16496581e-01 -4.08248290e-01]]\n"
     ]
    }
   ],
   "source": [
    "#Step 5 (U=X*V*sigma_inv)\n",
    "\n",
    "U = np.matmul(X, np.matmul(V, sigma_inv))\n",
    "A = np.matmul(U, np.matmul(sigma, VT))\n",
    "\n",
    "print(\"Original Matrix After SVD:\")\n",
    "print(A)\n",
    "print(\"U:\")\n",
    "print(U)\n",
    "print(\"Sigma:\")\n",
    "print(sigma)\n",
    "print(\"V Transpose:\")\n",
    "print(VT)"
   ]
  },
  {
   "cell_type": "code",
   "execution_count": null,
   "id": "fd687e9d",
   "metadata": {},
   "outputs": [],
   "source": []
  }
 ],
 "metadata": {
  "kernelspec": {
   "display_name": "Python 3 (ipykernel)",
   "language": "python",
   "name": "python3"
  },
  "language_info": {
   "codemirror_mode": {
    "name": "ipython",
    "version": 3
   },
   "file_extension": ".py",
   "mimetype": "text/x-python",
   "name": "python",
   "nbconvert_exporter": "python",
   "pygments_lexer": "ipython3",
   "version": "3.9.12"
  }
 },
 "nbformat": 4,
 "nbformat_minor": 5
}
